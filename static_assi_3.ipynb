{
 "cells": [
  {
   "cell_type": "code",
   "execution_count": null,
   "id": "5c2d9a58-06c3-416a-b2c9-96c33f9b708b",
   "metadata": {},
   "outputs": [],
   "source": [
    "'''\n",
    "Q1. What is the Probability density function?\n",
    "'''\n",
    "\n",
    "The probability density function (PDF) is a way to describe the chances of a continuous random event happening.\n",
    "For example, let say we want to know the probability of a persons  height falling between 5 feet and 6 feet."
   ]
  },
  {
   "cell_type": "code",
   "execution_count": null,
   "id": "ce9278e4-2613-4d48-ab86-8e1a7e986a0b",
   "metadata": {},
   "outputs": [],
   "source": [
    "'''\n",
    "Q2. What are the types of Probability distribution?\n",
    "'''\n",
    "\n",
    "1.Normal/ Guassian distribution .\n",
    "2.log normal distrubution .\n",
    "3.power law distribution .\n",
    "4.bernoulli dustributuion .\n",
    "5.binomial distribution .\n",
    "6.normal distribution ."
   ]
  },
  {
   "cell_type": "code",
   "execution_count": 1,
   "id": "ca0ec78f-78d7-431e-b728-e8351ff7645e",
   "metadata": {},
   "outputs": [
    {
     "data": {
      "text/plain": [
       "0.24197072451914337"
      ]
     },
     "execution_count": 1,
     "metadata": {},
     "output_type": "execute_result"
    }
   ],
   "source": [
    "'''\n",
    "Q3. Write a Python function to calculate the probability density function of a normal distribution with\n",
    "given mean and standard deviation at a given point.\n",
    "'''\n",
    "\n",
    "# sorry but but i dont understand this then i use chatGPT for it \n",
    "\n",
    "import math\n",
    "\n",
    "def normal_pdf(x, mean, std_dev):\n",
    "    \"\"\"\n",
    "    Calculate the probability density function (PDF) of a normal distribution\n",
    "    with given mean and standard deviation at a given point x.\n",
    "    \n",
    "    Args:\n",
    "    x (float): The point at which to calculate the PDF.\n",
    "    mean (float): The mean of the normal distribution.\n",
    "    std_dev (float): The standard deviation of the normal distribution.\n",
    "    \n",
    "    Returns:\n",
    "    float: The PDF value at the given point x.\n",
    "    \"\"\"\n",
    "    coeff = 1.0 / (std_dev * math.sqrt(2.0 * math.pi))\n",
    "    exponent = math.exp(-(math.pow(x - mean, 2) / (2.0 * math.pow(std_dev, 2))))\n",
    "    pdf = coeff * exponent\n",
    "    return pdf\n",
    "\n",
    "normal_pdf(1, 0, 1)\n"
   ]
  },
  {
   "cell_type": "code",
   "execution_count": null,
   "id": "549067b7-2db8-43da-833d-d5867e701f5f",
   "metadata": {},
   "outputs": [],
   "source": [
    "'''\n",
    "Q4. What are the properties of Binomial distribution? Give two examples of events where binomial\n",
    "distribution can be applied.\n",
    "'''\n",
    " properties : \n",
    "        1.no of trials is fixed \n",
    "        2.each trial is independent \n",
    "        3.There are only two possible outcomes of each trail \n",
    "        4.The probability of succeess is fixed for each trial .\n",
    "        5.the probability of failure is also the fixed \n",
    "        \n",
    "    examples :\n",
    "        1 tossing a coin 10 times \n",
    "        2. result of 50 student pass or fail "
   ]
  },
  {
   "cell_type": "code",
   "execution_count": 4,
   "id": "c14379d8-bffb-40bd-a790-dbf99dffdbcc",
   "metadata": {},
   "outputs": [
    {
     "data": {
      "image/png": "[encoded data removed]",
      "text/plain": [
       "<Figure size 640x480 with 1 Axes>"
      ]
     },
     "metadata": {},
     "output_type": "display_data"
    }
   ],
   "source": [
    "'''\n",
    "Q5. Generate a random sample of size 1000 from a binomial distribution with probability of success 0.4\n",
    "and plot a histogram of the results using matplotlib.\n",
    "'''\n",
    "\n",
    "import numpy as np\n",
    "import matplotlib.pyplot as plt\n",
    "\n",
    "# set probability of success and sample size\n",
    "p = 0.4\n",
    "n = 1000\n",
    "\n",
    "# generate random sample from binomial distribution\n",
    "sample = np.random.binomial(n, p, size=n)\n",
    "\n",
    "# plot histogram of sample\n",
    "plt.hist(sample, bins=range(0, n+1), alpha=0.7, edgecolor='black')\n",
    "plt.title('Binomial Distribution with n=1000, p=0.4')\n",
    "plt.xlabel('Number of Successes')\n",
    "plt.ylabel('Frequency')\n",
    "plt.show()\n",
    "\n"
   ]
  },
  {
   "cell_type": "code",
   "execution_count": 3,
   "id": "ec500031-9468-4ad5-802a-b1298022692f",
   "metadata": {},
   "outputs": [
    {
     "data": {
      "text/plain": [
       "0.2650259152973617"
      ]
     },
     "execution_count": 3,
     "metadata": {},
     "output_type": "execute_result"
    }
   ],
   "source": [
    "'''\n",
    "Q6. Write a Python function to calculate the cumulative distribution function of a Poisson distribution\n",
    "with given mean at a given point.\n",
    "'''\n",
    "\n",
    "import math\n",
    "\n",
    "def poisson_cdf(mean, point):\n",
    "    cdf = 0\n",
    "    for i in range(point + 1):\n",
    "        cdf += math.exp(-mean) * (mean**i) / math.factorial(i)\n",
    "    return cdf\n",
    "\n",
    "poisson_cdf(5, 3)\n"
   ]
  },
  {
   "cell_type": "code",
   "execution_count": 5,
   "id": "c7edcaf7-9595-4536-9428-12d07fe8eeab",
   "metadata": {},
   "outputs": [
    {
     "data": {
      "text/plain": [
       "'\\noutcomes :\\n    Binomial distribution has only two outcomes success and failure\\n    Poisson distribution has as many outcomes in this specific interval  . \\n    \\nProbability of success:\\n    In the binomial distribution, the probability of success is constant for each trial\\n    while in the Poisson distribution, the probability of an event occurring is proportional to the length of the time interval or the volume of the space being considered.\\n'"
      ]
     },
     "execution_count": 5,
     "metadata": {},
     "output_type": "execute_result"
    }
   ],
   "source": [
    "'''\n",
    "Q7. How Binomial distribution different from Poisson distribution?\n",
    "'''\n",
    "\n",
    "outcomes :\n",
    "    Binomial distribution has only two outcomes success and failure\n",
    "    Poisson distribution has as many outcomes in this specific interval  . \n",
    "    \n",
    "Probability of success:\n",
    "    In the binomial distribution, the probability of success is constant for each trial\n",
    "    while in the Poisson distribution, the probability of an event occurring is proportional to the length of the time interval or the volume of the space being considered.\n"
   ]
  },
  {
   "cell_type": "code",
   "execution_count": 1,
   "id": "813446a2-b9ff-4421-9bae-e12695809707",
   "metadata": {},
   "outputs": [
    {
     "name": "stdout",
     "output_type": "stream",
     "text": [
      "Sample mean: 4.985\n",
      "Sample variance: 4.9967749999999995\n"
     ]
    }
   ],
   "source": [
    "'''\n",
    "Q8. Generate a random sample of size 1000 from a Poisson distribution with mean 5 and calculate the\n",
    "sample mean and variance.\n",
    "'''\n",
    "\n",
    "\n",
    "import numpy as np\n",
    "\n",
    "# Set the seed for reproducibility\n",
    "np.random.seed(42)\n",
    "\n",
    "# Generate a random sample of size 1000 from a Poisson distribution with mean 5\n",
    "sample = np.random.poisson(lam=5, size=1000)\n",
    "\n",
    "# Calculate the sample mean and variance\n",
    "sample_mean = np.mean(sample)\n",
    "sample_var = np.var(sample)\n",
    "\n",
    "# Print the results\n",
    "print(\"Sample mean:\", sample_mean)\n",
    "print(\"Sample variance:\", sample_var)\n"
   ]
  },
  {
   "cell_type": "code",
   "execution_count": null,
   "id": "9b9b84b6-30d1-4b76-b555-ea4da7cff70e",
   "metadata": {},
   "outputs": [],
   "source": [
    "'''\n",
    "Q9. How mean and variance are related in Binomial distribution and Poisson distribution?\n",
    "'''\n",
    "\n",
    "In a Binomial distribution, the mean is equal to the product of the number of trials and the probability of success in each trial. \n",
    "Specifically, if X follows a Binomial distribution with parameters n and p, then the mean of X is given by:\n",
    "    mean(X) = n * p\n",
    "    \n",
    "    var(X) = n * p * (1 - p)\n",
    "\n",
    "    \n",
    "for possion distribution : \n",
    "    \n",
    "    mean(X) = λ\n",
    "    var(X) = λ\n",
    "\n"
   ]
  },
  {
   "cell_type": "code",
   "execution_count": 5,
   "id": "4464047c-ad44-48d9-a597-fed0386b004b",
   "metadata": {},
   "outputs": [
    {
     "data": {
      "text/plain": [
       "'\\nabout 68% of the data falls within one standard deviation of the mean, \\nabout 95% of the data falls within two standard deviations of the mean, \\nabout 99.7% of the data falls within three standard deviations of the mean. \\n\\n68-95-99.70 rule teches this \\n\\n'"
      ]
     },
     "execution_count": 5,
     "metadata": {},
     "output_type": "execute_result"
    }
   ],
   "source": [
    "'''\n",
    "Q10. In normal distribution with respect to mean position, where does the least frequent data appear?\n",
    "'''\n",
    "\n",
    "about 68% of the data falls within one standard deviation of the mean, \n",
    "about 95% of the data falls within two standard deviations of the mean, \n",
    "about 99.7% of the data falls within three standard deviations of the mean. \n",
    "\n",
    "68-95-99.70 rule teches this \n",
    "\n"
   ]
  },
  {
   "cell_type": "code",
   "execution_count": null,
   "id": "aa7d876d-c908-4083-920f-02a9779b0498",
   "metadata": {},
   "outputs": [],
   "source": []
  }
 ],
 "metadata": {
  "kernelspec": {
   "display_name": "Python 3 (ipykernel)",
   "language": "python",
   "name": "python3"
  },
  "language_info": {
   "codemirror_mode": {
    "name": "ipython",
    "version": 3
   },
   "file_extension": ".py",
   "mimetype": "text/x-python",
   "name": "python",
   "nbconvert_exporter": "python",
   "pygments_lexer": "ipython3",
   "version": "3.10.8"
  }
 },
 "nbformat": 4,
 "nbformat_minor": 5
}
